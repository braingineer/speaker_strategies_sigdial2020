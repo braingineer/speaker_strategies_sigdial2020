{
 "cells": [
  {
   "cell_type": "markdown",
   "metadata": {},
   "source": [
    "# Save XKCD Model for pre-trained use"
   ]
  },
  {
   "cell_type": "code",
   "execution_count": 1,
   "metadata": {},
   "outputs": [],
   "source": [
    "import os\n",
    "import glob\n",
    "import json\n",
    "import shutil\n",
    "import yaml\n",
    "\n",
    "from magis_sigdial2020.settings import REPO_ROOT\n",
    "from magis_sigdial2020.models.xkcd_model import XKCDModel\n",
    "from magis_sigdial2020.datasets.xkcd import XKCD\n",
    "import numpy as np\n",
    "import pyromancy\n",
    "import torch"
   ]
  },
  {
   "cell_type": "markdown",
   "metadata": {},
   "source": [
    "## Helper functions"
   ]
  },
  {
   "cell_type": "code",
   "execution_count": 93,
   "metadata": {},
   "outputs": [],
   "source": [
    "def compute_xkcd_metrics(model, xkcd_coordinate_system=\"fft\", device=\"cpu\"):\n",
    "    dataset = XKCD.from_settings(coordinate_system=\"fft\")\n",
    "    dataset.set_split(\"val\")\n",
    "    probas = []\n",
    "    correct_preds = []\n",
    "    for batch_dict in dataset.generate_batches(batch_size=256, device=device, drop_last=False, shuffle=False):\n",
    "        batch_probas = model(batch_dict[\"x_color_value\"])[\"S0_probability\"]\n",
    "        probas.append(\n",
    "            batch_probas\n",
    "            .gather(dim=1, index=batch_dict[\"y_color_name\"].view(-1,1))\n",
    "            .squeeze()\n",
    "            .cpu().detach().numpy()\n",
    "        )\n",
    "        correct_preds.append(\n",
    "            torch.eq(\n",
    "                batch_probas.argmax(axis=1),\n",
    "                batch_dict[\"y_color_name\"]\n",
    "            )\n",
    "            .float()\n",
    "            .cpu().detach().numpy()\n",
    "        )\n",
    "    # singleton vectors happen i guess?\n",
    "    probas = [p.reshape(-1) for p in probas]\n",
    "    correct_preds = [p.reshape(-1) for p in correct_preds]\n",
    "    log_probas = np.log(np.concatenate(probas))\n",
    "    correct_preds = np.concatenate(correct_preds)\n",
    "    return {\n",
    "        \"perplexity\": np.exp(-1 * log_probas.mean()),\n",
    "        \"accuracy\": correct_preds.mean(),\n",
    "        \"nll\": -1 * log_probas.mean()\n",
    "    }\n",
    "\n",
    "def sanitize_numpy_types(dict_):\n",
    "    out = {}\n",
    "    for name, value in dict_.items():\n",
    "        # fix numpy types that somehow always sneak in\n",
    "        # see: type(np.arange(5)[0]), and np.arange(5)[0].item()\n",
    "        value = getattr(value, \"item\", lambda: value)()\n",
    "        out[name] = value\n",
    "    return out\n",
    "\n",
    "def convert_trial(trial_path, output_path):\n",
    "    remainder, trial_name = os.path.split(trial_path)\n",
    "    log_path, exp_name = os.path.split(remainder)\n",
    "    pyromancy.settings.set_root_output_path(log_path)\n",
    "    args = pyromancy.utils.get_specific_args(exp_name, trial_name)\n",
    "    sanitized_args = sanitize_numpy_types(vars(args))\n",
    "    os.makedirs(output_path, exist_ok=True)\n",
    "    shutil.copy2(os.path.join(trial_path, 'model.pth'), output_path)\n",
    "    with open(os.path.join(output_path, 'hparams.yaml'), 'w') as fp:\n",
    "        yaml.dump(sanitized_args, fp)\n",
    "        \n",
    "def freeze_model(lab_subdir, experiment_name, trial_name, output_name, ModelClass=None, verbose=True):\n",
    "    model_source = os.path.join(REPO_ROOT, \"lab\", lab_subdir, \"logs\",  experiment_name, trial_name)\n",
    "    model_target = os.path.join(REPO_ROOT, \"models\", output_name)\n",
    "    convert_trial(model_source, model_target)\n",
    "    if verbose:\n",
    "        print(f\"Model source: {model_source}\")\n",
    "        print(f\"Model written to: {model_target}\")\n",
    "    \n",
    "    if ModelClass is not None:\n",
    "        model = ModelClass.from_pretrained(model_source)\n",
    "        metric_info = sanitize_numpy_types(compute_xkcd_metrics(model))\n",
    "        metric_target = os.path.join(REPO_ROOT, \"models\", output_name, 'metric.json')\n",
    "        with open(metric_target, \"w\") as fp:\n",
    "            json.dump(metric_info, fp)\n",
    "        if verbose:\n",
    "            print(\"- Metrics -\")\n",
    "            for name, value in metric_info.items():\n",
    "                print(f\" > {name:<10} = {value:0.4f}\")"
   ]
  },
  {
   "cell_type": "markdown",
   "metadata": {},
   "source": [
    "## XKCD Model freeze"
   ]
  },
  {
   "cell_type": "code",
   "execution_count": 95,
   "metadata": {},
   "outputs": [
    {
     "name": "stdout",
     "output_type": "stream",
     "text": [
      "Model source: /r/code/paper_repos/speaker_strategies_sigdial2020/lab/XKCD_model/logs/E001_XKCDModel_uncalibrated/published_version\n",
      "Model written to: /r/code/paper_repos/speaker_strategies_sigdial2020/models/UncalibratedXKCDModel\n",
      "- Metrics -\n",
      " > perplexity = 12.1320\n",
      " > accuracy   = 0.4047\n",
      " > nll        = 2.4958\n"
     ]
    }
   ],
   "source": [
    "freeze_model(\n",
    "    lab_subdir=\"XKCD_model\",\n",
    "    experiment_name=\"E001_XKCDModel_uncalibrated\",\n",
    "    trial_name=\"published_version\",\n",
    "    output_name=\"UncalibratedXKCDModel\",\n",
    "    ModelClass=XKCDModel,\n",
    "    verbose=True\n",
    ")"
   ]
  },
  {
   "cell_type": "code",
   "execution_count": 94,
   "metadata": {},
   "outputs": [
    {
     "name": "stdout",
     "output_type": "stream",
     "text": [
      "Model source: /r/code/paper_repos/speaker_strategies_sigdial2020/lab/XKCD_model/logs/E003_XKCDModel_calibrated/published_version\n",
      "Model written to: /r/code/paper_repos/speaker_strategies_sigdial2020/models/CalibratedXKCDModel\n",
      "- Metrics -\n",
      " > perplexity = 12.1566\n",
      " > accuracy   = 0.4042\n",
      " > nll        = 2.4979\n"
     ]
    }
   ],
   "source": [
    "freeze_model(\n",
    "    lab_subdir=\"XKCD_model\",\n",
    "    experiment_name=\"E003_XKCDModel_calibrated\",\n",
    "    trial_name=\"published_version\",\n",
    "    output_name=\"CalibratedXKCDModel\",\n",
    "    ModelClass=XKCDModel,\n",
    "    verbose=True\n",
    ")"
   ]
  }
 ],
 "metadata": {
  "kernelspec": {
   "display_name": "magis_sigdial2020",
   "language": "python",
   "name": "magis_sigdial2020"
  },
  "language_info": {
   "codemirror_mode": {
    "name": "ipython",
    "version": 3
   },
   "file_extension": ".py",
   "mimetype": "text/x-python",
   "name": "python",
   "nbconvert_exporter": "python",
   "pygments_lexer": "ipython3",
   "version": "3.7.6"
  }
 },
 "nbformat": 4,
 "nbformat_minor": 4
}
